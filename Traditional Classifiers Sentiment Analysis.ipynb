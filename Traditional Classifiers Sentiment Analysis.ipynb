{
 "cells": [
  {
   "cell_type": "code",
   "execution_count": null,
   "metadata": {},
   "outputs": [],
   "source": [
    "# Predicting Unlabeled Data Using Machine Learning Unigram Bigram Model\n",
    "import pandas as pd\n",
    "from sklearn.svm import LinearSVC\n",
    "from sklearn.naive_bayes import MultinomialNB, BernoulliNB\n",
    "from sklearn.linear_model import LogisticRegressionCV\n",
    "from sklearn.ensemble import AdaBoostClassifier\n",
    "from sklearn.linear_model import Perceptron\n",
    "from sklearn.neighbors import NearestCentroid\n",
    "from sklearn.linear_model import PassiveAggressiveClassifier\n",
    "from sklearn.feature_extraction.text import CountVectorizer\n",
    "from sklearn.feature_extraction.text import TfidfVectorizer\n",
    "from nltk import word_tokenize\n",
    "from sklearn import metrics\n",
    "from sklearn.pipeline import Pipeline\n",
    "from sklearn.model_selection import train_test_split\n",
    "\n",
    "data = pd.read_csv('All_Label_Covid_Headlines.csv', header=0)\n",
    "new_data = pd.read_csv('Preprocessed_Headline_India.csv', header=0)\n",
    "x = data['Headline_Clean']\n",
    "y = data['Sentiment']\n",
    "\n",
    "x_train, x_test, y_train, y_test = train_test_split(x, y, test_size=50, random_state=10)\n",
    "\n",
    "unigram_bigram_clf = Pipeline([\n",
    "    ('vectorizer', CountVectorizer(analyzer=\"word\",\n",
    "                                   ngram_range=(1, 2),\n",
    "                                   tokenizer=word_tokenize,\n",
    "                                   preprocessor=lambda text: text.replace(\"<br />\", \" \"), )),\n",
    "    ('classifier', NearestCentroid())\n",
    "])\n",
    "\n",
    "unigram_bigram_clf.fit(x_train, y_train)\n",
    "pred_y = unigram_bigram_clf.predict(x_test)\n",
    "print('Accuracy : ', metrics.accuracy_score(y_test, pred_y))  # Accuracy :  0.9204545454545454\n",
    "print('Precision : ', metrics.precision_score(y_test, pred_y))  # Precision :  0.8863636363636364\n",
    "print('Recall : ', metrics.recall_score(y_test, pred_y))  # Recall :  0.9512195121951219\n",
    "print('f1 Score : ', metrics.f1_score(y_test, pred_y))  # f1 Score :  0.9176470588235294\n",
    "\n",
    "pred_y2 = unigram_bigram_clf.predict(new_data['Headline_Clean'])\n",
    "print(pred_y2)\n",
    "pd.DataFrame(pred_y2, columns=['Sentiment']).to_csv('India_Covid_Sentiments_Perceptron.csv')"
   ]
  }
 ],
 "metadata": {
  "kernelspec": {
   "display_name": "Python 3",
   "language": "python",
   "name": "python3"
  },
  "language_info": {
   "codemirror_mode": {
    "name": "ipython",
    "version": 3
   },
   "file_extension": ".py",
   "mimetype": "text/x-python",
   "name": "python",
   "nbconvert_exporter": "python",
   "pygments_lexer": "ipython3",
   "version": "3.7.0"
  }
 },
 "nbformat": 4,
 "nbformat_minor": 4
}
