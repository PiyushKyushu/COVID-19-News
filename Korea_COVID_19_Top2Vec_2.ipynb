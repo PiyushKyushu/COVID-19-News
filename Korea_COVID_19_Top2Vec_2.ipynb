{
  "nbformat": 4,
  "nbformat_minor": 0,
  "metadata": {
    "kernelspec": {
      "display_name": "Python 3",
      "language": "python",
      "name": "python3"
    },
    "language_info": {
      "codemirror_mode": {
        "name": "ipython",
        "version": 3
      },
      "file_extension": ".py",
      "mimetype": "text/x-python",
      "name": "python",
      "nbconvert_exporter": "python",
      "pygments_lexer": "ipython3",
      "version": "3.7.0"
    },
    "colab": {
      "name": "Korea COVID-19 Top2Vec-2.ipynb",
      "provenance": [],
      "include_colab_link": true
    }
  },
  "cells": [
    {
      "cell_type": "markdown",
      "metadata": {
        "id": "view-in-github",
        "colab_type": "text"
      },
      "source": [
        "<a href=\"https://colab.research.google.com/github/PiyushKyushu/COVID-19-News/blob/main/Korea_COVID_19_Top2Vec_2.ipynb\" target=\"_parent\"><img src=\"https://colab.research.google.com/assets/colab-badge.svg\" alt=\"Open In Colab\"/></a>"
      ]
    },
    {
      "cell_type": "code",
      "metadata": {
        "id": "aQFsq3w6rnVB"
      },
      "source": [
        "import numpy as np \n",
        "import pandas as pd \n",
        "import json\n",
        "import os\n",
        "import ipywidgets as widgets\n",
        "from IPython.display import clear_output, display\n",
        "from top2vec import Top2Vec"
      ],
      "execution_count": null,
      "outputs": []
    },
    {
      "cell_type": "code",
      "metadata": {
        "id": "5nwxGxBsrnVE"
      },
      "source": [
        "data = pd.read_csv(\"No_Duplicate_Korea_Articles.csv\")\n",
        "data.head()"
      ],
      "execution_count": null,
      "outputs": []
    },
    {
      "cell_type": "code",
      "metadata": {
        "id": "c7bOTmnyrnVF"
      },
      "source": [
        "# top2vec = Top2Vec(documents=data.Articles, speed=\"deep-learn\", workers=4)"
      ],
      "execution_count": null,
      "outputs": []
    },
    {
      "cell_type": "code",
      "metadata": {
        "id": "ffAub7rwrnVF"
      },
      "source": [
        "# top2vec.save(\"Korea_Covid-19_Top2Vec_model\")"
      ],
      "execution_count": null,
      "outputs": []
    },
    {
      "cell_type": "code",
      "metadata": {
        "id": "yuVVB7HarnVF"
      },
      "source": [
        "top2vec = Top2Vec.load(\"Korea_Covid-19_Top2Vec_model\")"
      ],
      "execution_count": null,
      "outputs": []
    },
    {
      "cell_type": "code",
      "metadata": {
        "id": "_k0psuRwrnVG"
      },
      "source": [
        "top2vec.get_num_topics()"
      ],
      "execution_count": null,
      "outputs": []
    },
    {
      "cell_type": "code",
      "metadata": {
        "id": "Mz6uWFlqrnVG"
      },
      "source": [
        "topic_sizes, topic_nums = top2vec.get_topic_sizes()\n",
        "print(topic_sizes)\n",
        "print(\"-----------------\")\n",
        "print(topic_nums)"
      ],
      "execution_count": null,
      "outputs": []
    },
    {
      "cell_type": "code",
      "metadata": {
        "id": "ZOmc6AmLrnVH"
      },
      "source": [
        "topic_words, word_scores, topic_nums = top2vec.get_topics(127)\n",
        "print(topic_words)"
      ],
      "execution_count": null,
      "outputs": []
    },
    {
      "cell_type": "code",
      "metadata": {
        "id": "W5-UJygPrnVI"
      },
      "source": [
        "topic_words, word_scores, topic_scores, topic_nums = top2vec.search_topics(keywords=[\"Celltrion\"], num_topics=1)\n",
        "print(topic_words)\n",
        "print(\"----------\")\n",
        "print(word_scores)\n",
        "print(\"----------\")\n",
        "print(topic_scores)\n",
        "print(\"----------\")\n",
        "print(topic_nums)\n",
        "print(\"----------\")"
      ],
      "execution_count": null,
      "outputs": []
    },
    {
      "cell_type": "code",
      "metadata": {
        "id": "yHXbeYEHrnVI"
      },
      "source": [
        "topic_words, word_scores, topic_scores, topic_nums = top2vec.search_topics(keywords=[\"Celltrion\"], num_topics=1)\n",
        "for topic in topic_nums:\n",
        "    top2vec.generate_topic_wordcloud(topic)"
      ],
      "execution_count": null,
      "outputs": []
    },
    {
      "cell_type": "code",
      "metadata": {
        "id": "vkvJX5qOrnVI"
      },
      "source": [
        "documents, document_scores, document_ids = top2vec.search_documents_by_topic(topic_num=9, num_docs=5)\n",
        "for doc, score, doc_id in zip(documents, document_scores, document_ids):\n",
        "    print(f\"Document: {doc_id}, Score: {score}\")\n",
        "    print(\"-----------\")\n",
        "    print(doc)\n",
        "    print(\"-----------\")\n",
        "    print()"
      ],
      "execution_count": null,
      "outputs": []
    },
    {
      "cell_type": "code",
      "metadata": {
        "id": "fsoOBhc7rnVJ"
      },
      "source": [
        "documents, document_scores, document_ids = top2vec.search_documents_by_keywords(keywords=[\"Shinzo\", \"Abe\"], num_docs=5)\n",
        "for doc, score, doc_id in zip(documents, document_scores, document_ids):\n",
        "    print(f\"Document: {doc_id}, Score: {score}\")\n",
        "    print(\"-----------\")\n",
        "    print(doc)\n",
        "    print(\"-----------\")\n",
        "    print()"
      ],
      "execution_count": null,
      "outputs": []
    },
    {
      "cell_type": "code",
      "metadata": {
        "id": "wR3cEf9srnVJ"
      },
      "source": [
        "words, word_scores = top2vec.similar_words(keywords=[\"Celltrion\"], keywords_neg=[], num_words=40)\n",
        "for word, score in zip(words, word_scores):\n",
        "    print(f\"{word} {score}\")"
      ],
      "execution_count": null,
      "outputs": []
    }
  ]
}